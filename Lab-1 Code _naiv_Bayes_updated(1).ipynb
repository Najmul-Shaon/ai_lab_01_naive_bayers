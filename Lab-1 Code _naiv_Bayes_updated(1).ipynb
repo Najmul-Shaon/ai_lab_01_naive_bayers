{
  "cells": [
    {
      "cell_type": "code",
      "execution_count": null,
      "metadata": {
        "id": "2C3vRT7uzc8X"
      },
      "outputs": [],
      "source": [
        "# Assigning features and label variables\n",
        "weather=['Sunny','Sunny','Overcast','Rainy','Rainy','Rainy','Overcast','Sunny','Sunny','Rainy','Sunny','Overcast','Overcast','Rainy']\n",
        "temp=['Hot','Hot','Hot','Mild','Cool','Cool','Cool','Mild','Cool','Mild','Mild','Mild','Hot','Mild']\n",
        "humidity=['H','H','H','H','N','N','N','H','N','N','N','H','N','H']\n",
        "windy=['F','T','F','F','F','T','T','F','F','F','T','T','F','T']\n",
        "\n",
        "play=['No','No','Yes','Yes','Yes','No','Yes','No','Yes','Yes','Yes','Yes','Yes','No']"
      ]
    },
    {
      "cell_type": "code",
      "execution_count": null,
      "metadata": {
        "colab": {
          "base_uri": "https://localhost:8080/"
        },
        "id": "5zwu93gxzc8b",
        "outputId": "79e81b4f-47da-41e6-9b35-822d9292626a"
      },
      "outputs": [
        {
          "ename": "",
          "evalue": "",
          "output_type": "error",
          "traceback": [
            "\u001b[1;31mRunning cells with 'Python 3.11.9' requires the ipykernel package.\n",
            "\u001b[1;31mRun the following command to install 'ipykernel' into the Python environment. \n",
            "\u001b[1;31mCommand: '\"c:/Users/Najmul Shaon/AppData/Local/Microsoft/WindowsApps/python3.11.exe\" -m pip install ipykernel -U --user --force-reinstall'"
          ]
        }
      ],
      "source": [
        "# Import LabelEncoder\n",
        "from sklearn import preprocessing\n",
        "#creating labelEncoder\n",
        "le = preprocessing.LabelEncoder()\n",
        "# Converting string labels into numbers.\n",
        "wheather_encoded=le.fit_transform(weather)\n",
        "print (\"Weather:\",wheather_encoded)\n",
        "temp_encoded=le.fit_transform(temp)\n",
        "print (\"Temp:\",temp_encoded)\n",
        "humidity_encoded=le.fit_transform(humidity)\n",
        "print (\"Humidity:\",humidity_encoded)\n",
        "windy_encoded=le.fit_transform(windy)\n",
        "print (\"Windy\",windy_encoded)"
      ]
    },
    {
      "cell_type": "markdown",
      "metadata": {
        "id": "0c_Z81X42bBw"
      },
      "source": [
        "\n",
        "1.   weather [sunny=2, overcast=0, Rainy=1]\n",
        "2.   Temp[ Hot=1, Mild=2, cool=0]\n",
        "3.   Humidity[ H=0, N=1]\n",
        "4.   windy[F=0, T=1]"
      ]
    },
    {
      "cell_type": "code",
      "execution_count": null,
      "metadata": {
        "colab": {
          "base_uri": "https://localhost:8080/"
        },
        "id": "wUn_vZtEzc8d",
        "outputId": "793132f8-4ece-434b-c69c-aef3042ff14e"
      },
      "outputs": [
        {
          "name": "stdout",
          "output_type": "stream",
          "text": [
            "Play: [0 0 1 1 1 0 1 0 1 1 1 1 1 0]\n"
          ]
        }
      ],
      "source": [
        "# Converting string labels into numbers\n",
        "label=le.fit_transform(play)\n",
        "print (\"Play:\",label)"
      ]
    },
    {
      "cell_type": "markdown",
      "metadata": {
        "id": "sXjbAoZm3ms9"
      },
      "source": [
        "\n",
        "\n",
        "*   Play [no=0,  yes=1]\n",
        "\n"
      ]
    },
    {
      "cell_type": "markdown",
      "metadata": {
        "id": "QHkccBtA3OZ8"
      },
      "source": []
    },
    {
      "cell_type": "code",
      "execution_count": null,
      "metadata": {
        "colab": {
          "base_uri": "https://localhost:8080/"
        },
        "id": "FUhtYQXBzc8e",
        "outputId": "deffc069-b760-44f4-f1c9-f949785d2edf"
      },
      "outputs": [
        {
          "name": "stdout",
          "output_type": "stream",
          "text": [
            "[[2, 1, 0, 0], [2, 1, 0, 1], [0, 1, 0, 0], [1, 2, 0, 0], [1, 0, 1, 0], [1, 0, 1, 1], [0, 0, 1, 1], [2, 2, 0, 0], [2, 0, 1, 0], [1, 2, 1, 0], [2, 2, 1, 1], [0, 2, 0, 1], [0, 1, 1, 0], [1, 2, 0, 1]]\n"
          ]
        }
      ],
      "source": [
        "#Combinig weather and temp into single listof tuples\n",
        "c = lambda wheather_encoded, temp_encoded,humidity_encoded,windy_encoded: [list(c) for c in zip(wheather_encoded,temp_encoded,humidity_encoded,windy_encoded)]\n",
        "features = c(wheather_encoded, temp_encoded,humidity_encoded,windy_encoded)\n",
        "print (list(features))"
      ]
    },
    {
      "cell_type": "code",
      "execution_count": null,
      "metadata": {
        "colab": {
          "base_uri": "https://localhost:8080/"
        },
        "id": "YWE3_p29zc8f",
        "outputId": "156a9aef-9353-40dd-aa91-1bf40236158a"
      },
      "outputs": [
        {
          "name": "stdout",
          "output_type": "stream",
          "text": [
            "Predicted Value: [0]\n"
          ]
        }
      ],
      "source": [
        "#Import Gaussian Naive Bayes model\n",
        "from sklearn.naive_bayes import GaussianNB\n",
        "#Create a Gaussian Classifier\n",
        "model = GaussianNB()\n",
        "\n",
        "# Train the model using the training sets\n",
        "model.fit(features,label)\n",
        "\n",
        "#Predict Output\n",
        "predicted= model.predict([[2,2,0,0]]) # 0:Overcast, 2:Mild\n",
        "print (\"Predicted Value:\", predicted)"
      ]
    },
    {
      "cell_type": "code",
      "execution_count": null,
      "metadata": {
        "id": "m1R7poAs2CBJ"
      },
      "outputs": [],
      "source": []
    },
    {
      "cell_type": "code",
      "execution_count": null,
      "metadata": {
        "colab": {
          "base_uri": "https://localhost:8080/"
        },
        "id": "L0FVHJWx2CTs",
        "outputId": "d722b12e-76ce-40d3-f4cc-cb0710836223"
      },
      "outputs": [
        {
          "name": "stdout",
          "output_type": "stream",
          "text": [
            "Predicted Value: [1]\n"
          ]
        }
      ],
      "source": [
        "\n",
        "#Predict Output\n",
        "predicted= model.predict([[1,1,0,0]]) # 1:Rainy  1:Hot  0:H    0:F\n",
        "print (\"Predicted Value:\", predicted)"
      ]
    },
    {
      "cell_type": "code",
      "execution_count": null,
      "metadata": {
        "id": "qNITVO0Fzc8h"
      },
      "outputs": [],
      "source": []
    }
  ],
  "metadata": {
    "colab": {
      "provenance": []
    },
    "kernelspec": {
      "display_name": "Python 3",
      "language": "python",
      "name": "python3"
    },
    "language_info": {
      "codemirror_mode": {
        "name": "ipython",
        "version": 3
      },
      "file_extension": ".py",
      "mimetype": "text/x-python",
      "name": "python",
      "nbconvert_exporter": "python",
      "pygments_lexer": "ipython3",
      "version": "3.11.9"
    }
  },
  "nbformat": 4,
  "nbformat_minor": 0
}
